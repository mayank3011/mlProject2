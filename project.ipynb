{
 "cells": [
  {
   "cell_type": "code",
   "execution_count": 1,
   "id": "c9aaddbc",
   "metadata": {},
   "outputs": [],
   "source": [
    "import pandas as pd\n",
    "from sklearn.model_selection import train_test_split\n",
    "from sklearn.tree import DecisionTreeClassifier\n",
    "from sklearn.metrics import accuracy_score\n",
    "\n",
    "# Load the dataset\n",
    "data = pd.read_csv('indian_liver_patient.csv')\n"
   ]
  },
  {
   "cell_type": "code",
   "execution_count": 2,
   "id": "39c7d0a8",
   "metadata": {},
   "outputs": [],
   "source": [
    "# Convert categorical variables to numerical\n",
    "data['Gender'] = data['Gender'].apply(lambda x: 1 if x=='Male' else 0)\n",
    "data['Dataset'] = data['Dataset'].apply(lambda x: 1 if x==1 else 0)\n",
    "\n",
    "# Handle missing values\n",
    "data = data.dropna()\n"
   ]
  },
  {
   "cell_type": "code",
   "execution_count": 3,
   "id": "f2ecc9bd",
   "metadata": {},
   "outputs": [],
   "source": [
    "# Split the data into training and testing sets\n",
    "X = data.drop('Dataset', axis=1)\n",
    "y = data['Dataset']\n",
    "X_train, X_test, y_train, y_test = train_test_split(X, y, test_size=0.2, random_state=42)\n"
   ]
  },
  {
   "cell_type": "code",
   "execution_count": 15,
   "id": "a836f333",
   "metadata": {},
   "outputs": [
    {
     "name": "stdout",
     "output_type": "stream",
     "text": [
      "Training accuracy Entropy:  1.0\n",
      "testing accuracy entropy:  0.5862068965517241\n"
     ]
    }
   ],
   "source": [
    "# Create a decision tree classifier\n",
    "dtc = DecisionTreeClassifier()\n",
    "\n",
    "# Train the classifier on the training data\n",
    "dtc.fit(X_train, y_train)\n",
    "\n",
    "# Make predictions on the testing data\n",
    "dtc_train_pred = dtc.predict(X_train)\n",
    "dtc_test_pred = dtc.predict(X_test)\n",
    "# Calculate the accuracy of the classifier\n",
    "print(\"Training accuracy Entropy: \", accuracy_score(y_train, dtc_train_pred))\n",
    "print(\"testing accuracy entropy: \", accuracy_score(y_test, dtc_test_pred))\n"
   ]
  },
  {
   "cell_type": "code",
   "execution_count": 16,
   "id": "48da21da",
   "metadata": {},
   "outputs": [
    {
     "data": {
      "text/plain": [
       "[Text(0.6595341930650684, 0.975, 'X[4] <= 212.5\\ngini = 0.388\\nsamples = 463\\nvalue = [122, 341]'),\n",
       " Text(0.480027290239726, 0.925, 'X[2] <= 1.65\\ngini = 0.478\\nsamples = 236\\nvalue = [93, 143]'),\n",
       " Text(0.3778627996575342, 0.875, 'X[9] <= 1.65\\ngini = 0.498\\nsamples = 183\\nvalue = [86, 97]'),\n",
       " Text(0.3641641695205479, 0.825, 'X[0] <= 21.5\\ngini = 0.495\\nsamples = 177\\nvalue = [80, 97]'),\n",
       " Text(0.3144263698630137, 0.775, 'X[3] <= 0.15\\ngini = 0.298\\nsamples = 11\\nvalue = [9, 2]'),\n",
       " Text(0.3007277397260274, 0.725, 'gini = 0.0\\nsamples = 2\\nvalue = [0, 2]'),\n",
       " Text(0.328125, 0.725, 'gini = 0.0\\nsamples = 9\\nvalue = [9, 0]'),\n",
       " Text(0.4139019691780822, 0.775, 'X[4] <= 132.5\\ngini = 0.49\\nsamples = 166\\nvalue = [71, 95]'),\n",
       " Text(0.3555222602739726, 0.725, 'X[2] <= 0.85\\ngini = 0.245\\nsamples = 14\\nvalue = [2, 12]'),\n",
       " Text(0.3418236301369863, 0.675, 'gini = 0.0\\nsamples = 11\\nvalue = [0, 11]'),\n",
       " Text(0.3692208904109589, 0.675, 'X[8] <= 3.5\\ngini = 0.444\\nsamples = 3\\nvalue = [2, 1]'),\n",
       " Text(0.3555222602739726, 0.625, 'gini = 0.0\\nsamples = 2\\nvalue = [2, 0]'),\n",
       " Text(0.3829195205479452, 0.625, 'gini = 0.0\\nsamples = 1\\nvalue = [0, 1]'),\n",
       " Text(0.4722816780821918, 0.725, 'X[4] <= 141.0\\ngini = 0.496\\nsamples = 152\\nvalue = [69, 83]'),\n",
       " Text(0.4585830479452055, 0.675, 'gini = 0.0\\nsamples = 4\\nvalue = [4, 0]'),\n",
       " Text(0.4859803082191781, 0.675, 'X[2] <= 1.35\\ngini = 0.493\\nsamples = 148\\nvalue = [65, 83]'),\n",
       " Text(0.4103167808219178, 0.625, 'X[6] <= 42.5\\ngini = 0.488\\nsamples = 142\\nvalue = [60, 82]'),\n",
       " Text(0.3000856164383562, 0.575, 'X[6] <= 41.5\\ngini = 0.498\\nsamples = 111\\nvalue = [52, 59]'),\n",
       " Text(0.2863869863013699, 0.525, 'X[0] <= 67.0\\ngini = 0.496\\nsamples = 108\\nvalue = [49, 59]'),\n",
       " Text(0.2183219178082192, 0.475, 'X[1] <= 0.5\\ngini = 0.499\\nsamples = 98\\nvalue = [47, 51]'),\n",
       " Text(0.1232876712328767, 0.425, 'X[6] <= 25.5\\ngini = 0.456\\nsamples = 37\\nvalue = [13, 24]'),\n",
       " Text(0.0684931506849315, 0.375, 'X[2] <= 0.75\\ngini = 0.355\\nsamples = 26\\nvalue = [6, 20]'),\n",
       " Text(0.0410958904109589, 0.325, 'X[7] <= 6.85\\ngini = 0.5\\nsamples = 8\\nvalue = [4, 4]'),\n",
       " Text(0.0273972602739726, 0.275, 'X[0] <= 65.5\\ngini = 0.32\\nsamples = 5\\nvalue = [1, 4]'),\n",
       " Text(0.0136986301369863, 0.225, 'gini = 0.0\\nsamples = 4\\nvalue = [0, 4]'),\n",
       " Text(0.0410958904109589, 0.225, 'gini = 0.0\\nsamples = 1\\nvalue = [1, 0]'),\n",
       " Text(0.0547945205479452, 0.275, 'gini = 0.0\\nsamples = 3\\nvalue = [3, 0]'),\n",
       " Text(0.0958904109589041, 0.325, 'X[7] <= 6.65\\ngini = 0.198\\nsamples = 18\\nvalue = [2, 16]'),\n",
       " Text(0.0821917808219178, 0.275, 'X[9] <= 1.015\\ngini = 0.444\\nsamples = 6\\nvalue = [2, 4]'),\n",
       " Text(0.0684931506849315, 0.225, 'gini = 0.0\\nsamples = 4\\nvalue = [0, 4]'),\n",
       " Text(0.0958904109589041, 0.225, 'gini = 0.0\\nsamples = 2\\nvalue = [2, 0]'),\n",
       " Text(0.1095890410958904, 0.275, 'gini = 0.0\\nsamples = 12\\nvalue = [0, 12]'),\n",
       " Text(0.1780821917808219, 0.375, 'X[7] <= 6.3\\ngini = 0.463\\nsamples = 11\\nvalue = [7, 4]'),\n",
       " Text(0.1506849315068493, 0.325, 'X[6] <= 40.5\\ngini = 0.375\\nsamples = 4\\nvalue = [1, 3]'),\n",
       " Text(0.136986301369863, 0.275, 'gini = 0.0\\nsamples = 3\\nvalue = [0, 3]'),\n",
       " Text(0.1643835616438356, 0.275, 'gini = 0.0\\nsamples = 1\\nvalue = [1, 0]'),\n",
       " Text(0.2054794520547945, 0.325, 'X[6] <= 38.5\\ngini = 0.245\\nsamples = 7\\nvalue = [6, 1]'),\n",
       " Text(0.1917808219178082, 0.275, 'gini = 0.0\\nsamples = 6\\nvalue = [6, 0]'),\n",
       " Text(0.2191780821917808, 0.275, 'gini = 0.0\\nsamples = 1\\nvalue = [0, 1]'),\n",
       " Text(0.3133561643835616, 0.425, 'X[3] <= 0.15\\ngini = 0.493\\nsamples = 61\\nvalue = [34, 27]'),\n",
       " Text(0.2671232876712329, 0.375, 'X[0] <= 29.5\\ngini = 0.219\\nsamples = 8\\nvalue = [1, 7]'),\n",
       " Text(0.2534246575342466, 0.325, 'gini = 0.0\\nsamples = 1\\nvalue = [1, 0]'),\n",
       " Text(0.2808219178082192, 0.325, 'gini = 0.0\\nsamples = 7\\nvalue = [0, 7]'),\n",
       " Text(0.3595890410958904, 0.375, 'X[5] <= 39.5\\ngini = 0.47\\nsamples = 53\\nvalue = [33, 20]'),\n",
       " Text(0.3082191780821918, 0.325, 'X[7] <= 6.55\\ngini = 0.422\\nsamples = 43\\nvalue = [30, 13]'),\n",
       " Text(0.2465753424657534, 0.275, 'X[6] <= 16.0\\ngini = 0.208\\nsamples = 17\\nvalue = [15, 2]'),\n",
       " Text(0.2328767123287671, 0.225, 'gini = 0.0\\nsamples = 1\\nvalue = [0, 1]'),\n",
       " Text(0.2602739726027397, 0.225, 'X[6] <= 32.0\\ngini = 0.117\\nsamples = 16\\nvalue = [15, 1]'),\n",
       " Text(0.2465753424657534, 0.175, 'gini = 0.0\\nsamples = 12\\nvalue = [12, 0]'),\n",
       " Text(0.273972602739726, 0.175, 'X[7] <= 5.8\\ngini = 0.375\\nsamples = 4\\nvalue = [3, 1]'),\n",
       " Text(0.2602739726027397, 0.125, 'gini = 0.0\\nsamples = 1\\nvalue = [0, 1]'),\n",
       " Text(0.2876712328767123, 0.125, 'gini = 0.0\\nsamples = 3\\nvalue = [3, 0]'),\n",
       " Text(0.3698630136986301, 0.275, 'X[7] <= 7.65\\ngini = 0.488\\nsamples = 26\\nvalue = [15, 11]'),\n",
       " Text(0.3561643835616438, 0.225, 'X[3] <= 0.35\\ngini = 0.488\\nsamples = 19\\nvalue = [8, 11]'),\n",
       " Text(0.3424657534246575, 0.175, 'X[0] <= 44.0\\ngini = 0.49\\nsamples = 14\\nvalue = [8, 6]'),\n",
       " Text(0.3150684931506849, 0.125, 'X[4] <= 188.5\\ngini = 0.278\\nsamples = 6\\nvalue = [5, 1]'),\n",
       " Text(0.3013698630136986, 0.075, 'gini = 0.0\\nsamples = 5\\nvalue = [5, 0]'),\n",
       " Text(0.3287671232876712, 0.075, 'gini = 0.0\\nsamples = 1\\nvalue = [0, 1]'),\n",
       " Text(0.3698630136986301, 0.125, 'X[4] <= 169.5\\ngini = 0.469\\nsamples = 8\\nvalue = [3, 5]'),\n",
       " Text(0.3561643835616438, 0.075, 'gini = 0.0\\nsamples = 4\\nvalue = [0, 4]'),\n",
       " Text(0.3835616438356164, 0.075, 'X[5] <= 15.0\\ngini = 0.375\\nsamples = 4\\nvalue = [3, 1]'),\n",
       " Text(0.3698630136986301, 0.025, 'gini = 0.0\\nsamples = 1\\nvalue = [0, 1]'),\n",
       " Text(0.3972602739726027, 0.025, 'gini = 0.0\\nsamples = 3\\nvalue = [3, 0]'),\n",
       " Text(0.3698630136986301, 0.175, 'gini = 0.0\\nsamples = 5\\nvalue = [0, 5]'),\n",
       " Text(0.3835616438356164, 0.225, 'gini = 0.0\\nsamples = 7\\nvalue = [7, 0]'),\n",
       " Text(0.410958904109589, 0.325, 'X[5] <= 56.5\\ngini = 0.42\\nsamples = 10\\nvalue = [3, 7]'),\n",
       " Text(0.3972602739726027, 0.275, 'gini = 0.0\\nsamples = 6\\nvalue = [0, 6]'),\n",
       " Text(0.4246575342465753, 0.275, 'X[6] <= 40.5\\ngini = 0.375\\nsamples = 4\\nvalue = [3, 1]'),\n",
       " Text(0.410958904109589, 0.225, 'gini = 0.0\\nsamples = 3\\nvalue = [3, 0]'),\n",
       " Text(0.4383561643835616, 0.225, 'gini = 0.0\\nsamples = 1\\nvalue = [0, 1]'),\n",
       " Text(0.3544520547945205, 0.475, 'X[7] <= 6.95\\ngini = 0.32\\nsamples = 10\\nvalue = [2, 8]'),\n",
       " Text(0.3407534246575342, 0.425, 'gini = 0.0\\nsamples = 8\\nvalue = [0, 8]'),\n",
       " Text(0.3681506849315068, 0.425, 'gini = 0.0\\nsamples = 2\\nvalue = [2, 0]'),\n",
       " Text(0.3137842465753425, 0.525, 'gini = 0.0\\nsamples = 3\\nvalue = [3, 0]'),\n",
       " Text(0.5205479452054794, 0.575, 'X[4] <= 191.0\\ngini = 0.383\\nsamples = 31\\nvalue = [8, 23]'),\n",
       " Text(0.5068493150684932, 0.525, 'X[4] <= 174.5\\ngini = 0.454\\nsamples = 23\\nvalue = [8, 15]'),\n",
       " Text(0.4794520547945205, 0.475, 'X[9] <= 0.475\\ngini = 0.305\\nsamples = 16\\nvalue = [3, 13]'),\n",
       " Text(0.4657534246575342, 0.425, 'gini = 0.0\\nsamples = 1\\nvalue = [1, 0]'),\n",
       " Text(0.4931506849315068, 0.425, 'X[6] <= 109.0\\ngini = 0.231\\nsamples = 15\\nvalue = [2, 13]'),\n",
       " Text(0.4794520547945205, 0.375, 'X[0] <= 27.5\\ngini = 0.133\\nsamples = 14\\nvalue = [1, 13]'),\n",
       " Text(0.4657534246575342, 0.325, 'X[8] <= 3.85\\ngini = 0.5\\nsamples = 2\\nvalue = [1, 1]'),\n",
       " Text(0.4520547945205479, 0.275, 'gini = 0.0\\nsamples = 1\\nvalue = [1, 0]'),\n",
       " Text(0.4794520547945205, 0.275, 'gini = 0.0\\nsamples = 1\\nvalue = [0, 1]'),\n",
       " Text(0.4931506849315068, 0.325, 'gini = 0.0\\nsamples = 12\\nvalue = [0, 12]'),\n",
       " Text(0.5068493150684932, 0.375, 'gini = 0.0\\nsamples = 1\\nvalue = [1, 0]'),\n",
       " Text(0.5342465753424658, 0.475, 'X[4] <= 184.0\\ngini = 0.408\\nsamples = 7\\nvalue = [5, 2]'),\n",
       " Text(0.5205479452054794, 0.425, 'gini = 0.0\\nsamples = 4\\nvalue = [4, 0]'),\n",
       " Text(0.547945205479452, 0.425, 'X[8] <= 3.2\\ngini = 0.444\\nsamples = 3\\nvalue = [1, 2]'),\n",
       " Text(0.5342465753424658, 0.375, 'gini = 0.0\\nsamples = 1\\nvalue = [1, 0]'),\n",
       " Text(0.5616438356164384, 0.375, 'gini = 0.0\\nsamples = 2\\nvalue = [0, 2]'),\n",
       " Text(0.5342465753424658, 0.525, 'gini = 0.0\\nsamples = 8\\nvalue = [0, 8]'),\n",
       " Text(0.5616438356164384, 0.625, 'X[4] <= 158.0\\ngini = 0.278\\nsamples = 6\\nvalue = [5, 1]'),\n",
       " Text(0.547945205479452, 0.575, 'gini = 0.0\\nsamples = 1\\nvalue = [0, 1]'),\n",
       " Text(0.5753424657534246, 0.575, 'gini = 0.0\\nsamples = 5\\nvalue = [5, 0]'),\n",
       " Text(0.3915614297945205, 0.825, 'gini = 0.0\\nsamples = 6\\nvalue = [6, 0]'),\n",
       " Text(0.5821917808219178, 0.875, 'X[7] <= 5.25\\ngini = 0.229\\nsamples = 53\\nvalue = [7, 46]'),\n",
       " Text(0.5342465753424658, 0.825, 'X[8] <= 1.65\\ngini = 0.5\\nsamples = 6\\nvalue = [3, 3]'),\n",
       " Text(0.5205479452054794, 0.775, 'gini = 0.0\\nsamples = 2\\nvalue = [0, 2]'),\n",
       " Text(0.547945205479452, 0.775, 'X[4] <= 156.5\\ngini = 0.375\\nsamples = 4\\nvalue = [3, 1]'),\n",
       " Text(0.5342465753424658, 0.725, 'gini = 0.0\\nsamples = 2\\nvalue = [2, 0]'),\n",
       " Text(0.5616438356164384, 0.725, 'X[9] <= 0.85\\ngini = 0.5\\nsamples = 2\\nvalue = [1, 1]'),\n",
       " Text(0.547945205479452, 0.675, 'gini = 0.0\\nsamples = 1\\nvalue = [1, 0]'),\n",
       " Text(0.5753424657534246, 0.675, 'gini = 0.0\\nsamples = 1\\nvalue = [0, 1]'),\n",
       " Text(0.6301369863013698, 0.825, 'X[5] <= 13.0\\ngini = 0.156\\nsamples = 47\\nvalue = [4, 43]'),\n",
       " Text(0.6164383561643836, 0.775, 'gini = 0.0\\nsamples = 1\\nvalue = [1, 0]'),\n",
       " Text(0.6438356164383562, 0.775, 'X[3] <= 0.85\\ngini = 0.122\\nsamples = 46\\nvalue = [3, 43]'),\n",
       " Text(0.6301369863013698, 0.725, 'X[7] <= 6.05\\ngini = 0.355\\nsamples = 13\\nvalue = [3, 10]'),\n",
       " Text(0.6027397260273972, 0.675, 'X[5] <= 61.0\\ngini = 0.444\\nsamples = 3\\nvalue = [2, 1]'),\n",
       " Text(0.589041095890411, 0.625, 'gini = 0.0\\nsamples = 2\\nvalue = [2, 0]'),\n",
       " Text(0.6164383561643836, 0.625, 'gini = 0.0\\nsamples = 1\\nvalue = [0, 1]'),\n",
       " Text(0.6575342465753424, 0.675, 'X[7] <= 8.1\\ngini = 0.18\\nsamples = 10\\nvalue = [1, 9]'),\n",
       " Text(0.6438356164383562, 0.625, 'gini = 0.0\\nsamples = 9\\nvalue = [0, 9]'),\n",
       " Text(0.6712328767123288, 0.625, 'gini = 0.0\\nsamples = 1\\nvalue = [1, 0]'),\n",
       " Text(0.6575342465753424, 0.725, 'gini = 0.0\\nsamples = 33\\nvalue = [0, 33]'),\n",
       " Text(0.839041095890411, 0.925, 'X[0] <= 7.5\\ngini = 0.223\\nsamples = 227\\nvalue = [29, 198]'),\n",
       " Text(0.8253424657534246, 0.875, 'gini = 0.0\\nsamples = 3\\nvalue = [3, 0]'),\n",
       " Text(0.8527397260273972, 0.875, 'X[5] <= 11.0\\ngini = 0.205\\nsamples = 224\\nvalue = [26, 198]'),\n",
       " Text(0.839041095890411, 0.825, 'gini = 0.0\\nsamples = 2\\nvalue = [2, 0]'),\n",
       " Text(0.8664383561643836, 0.825, 'X[6] <= 67.5\\ngini = 0.193\\nsamples = 222\\nvalue = [24, 198]'),\n",
       " Text(0.8013698630136986, 0.775, 'X[0] <= 12.5\\ngini = 0.297\\nsamples = 116\\nvalue = [21, 95]'),\n",
       " Text(0.773972602739726, 0.725, 'X[5] <= 25.5\\ngini = 0.444\\nsamples = 3\\nvalue = [2, 1]'),\n",
       " Text(0.7602739726027398, 0.675, 'gini = 0.0\\nsamples = 1\\nvalue = [0, 1]'),\n",
       " Text(0.7876712328767124, 0.675, 'gini = 0.0\\nsamples = 2\\nvalue = [2, 0]'),\n",
       " Text(0.8287671232876712, 0.725, 'X[4] <= 1465.0\\ngini = 0.28\\nsamples = 113\\nvalue = [19, 94]'),\n",
       " Text(0.815068493150685, 0.675, 'X[3] <= 1.25\\ngini = 0.27\\nsamples = 112\\nvalue = [18, 94]'),\n",
       " Text(0.7534246575342466, 0.625, 'X[2] <= 2.05\\ngini = 0.323\\nsamples = 84\\nvalue = [17, 67]'),\n",
       " Text(0.6986301369863014, 0.575, 'X[0] <= 54.5\\ngini = 0.275\\nsamples = 73\\nvalue = [12, 61]'),\n",
       " Text(0.6301369863013698, 0.525, 'X[7] <= 5.35\\ngini = 0.177\\nsamples = 51\\nvalue = [5, 46]'),\n",
       " Text(0.589041095890411, 0.475, 'X[1] <= 0.5\\ngini = 0.444\\nsamples = 6\\nvalue = [2, 4]'),\n",
       " Text(0.5753424657534246, 0.425, 'gini = 0.0\\nsamples = 2\\nvalue = [2, 0]'),\n",
       " Text(0.6027397260273972, 0.425, 'gini = 0.0\\nsamples = 4\\nvalue = [0, 4]'),\n",
       " Text(0.6712328767123288, 0.475, 'X[0] <= 17.5\\ngini = 0.124\\nsamples = 45\\nvalue = [3, 42]'),\n",
       " Text(0.6301369863013698, 0.425, 'X[6] <= 20.0\\ngini = 0.408\\nsamples = 7\\nvalue = [2, 5]'),\n",
       " Text(0.6164383561643836, 0.375, 'gini = 0.0\\nsamples = 1\\nvalue = [1, 0]'),\n",
       " Text(0.6438356164383562, 0.375, 'X[5] <= 38.0\\ngini = 0.278\\nsamples = 6\\nvalue = [1, 5]'),\n",
       " Text(0.6301369863013698, 0.325, 'gini = 0.0\\nsamples = 4\\nvalue = [0, 4]'),\n",
       " Text(0.6575342465753424, 0.325, 'X[8] <= 3.95\\ngini = 0.5\\nsamples = 2\\nvalue = [1, 1]'),\n",
       " Text(0.6438356164383562, 0.275, 'gini = 0.0\\nsamples = 1\\nvalue = [0, 1]'),\n",
       " Text(0.6712328767123288, 0.275, 'gini = 0.0\\nsamples = 1\\nvalue = [1, 0]'),\n",
       " Text(0.7123287671232876, 0.425, 'X[4] <= 217.0\\ngini = 0.051\\nsamples = 38\\nvalue = [1, 37]'),\n",
       " Text(0.6986301369863014, 0.375, 'X[4] <= 215.5\\ngini = 0.375\\nsamples = 4\\nvalue = [1, 3]'),\n",
       " Text(0.684931506849315, 0.325, 'gini = 0.0\\nsamples = 3\\nvalue = [0, 3]'),\n",
       " Text(0.7123287671232876, 0.325, 'gini = 0.0\\nsamples = 1\\nvalue = [1, 0]'),\n",
       " Text(0.726027397260274, 0.375, 'gini = 0.0\\nsamples = 34\\nvalue = [0, 34]'),\n",
       " Text(0.7671232876712328, 0.525, 'X[0] <= 65.5\\ngini = 0.434\\nsamples = 22\\nvalue = [7, 15]'),\n",
       " Text(0.7534246575342466, 0.475, 'X[6] <= 25.5\\ngini = 0.497\\nsamples = 13\\nvalue = [7, 6]'),\n",
       " Text(0.7397260273972602, 0.425, 'gini = 0.0\\nsamples = 4\\nvalue = [4, 0]'),\n",
       " Text(0.7671232876712328, 0.425, 'X[0] <= 62.0\\ngini = 0.444\\nsamples = 9\\nvalue = [3, 6]'),\n",
       " Text(0.7534246575342466, 0.375, 'gini = 0.0\\nsamples = 4\\nvalue = [0, 4]'),\n",
       " Text(0.7808219178082192, 0.375, 'X[5] <= 22.0\\ngini = 0.48\\nsamples = 5\\nvalue = [3, 2]'),\n",
       " Text(0.7671232876712328, 0.325, 'gini = 0.0\\nsamples = 2\\nvalue = [0, 2]'),\n",
       " Text(0.7945205479452054, 0.325, 'gini = 0.0\\nsamples = 3\\nvalue = [3, 0]'),\n",
       " Text(0.7808219178082192, 0.475, 'gini = 0.0\\nsamples = 9\\nvalue = [0, 9]'),\n",
       " Text(0.8082191780821918, 0.575, 'X[8] <= 2.75\\ngini = 0.496\\nsamples = 11\\nvalue = [5, 6]'),\n",
       " Text(0.7945205479452054, 0.525, 'gini = 0.0\\nsamples = 5\\nvalue = [0, 5]'),\n",
       " Text(0.821917808219178, 0.525, 'X[8] <= 4.3\\ngini = 0.278\\nsamples = 6\\nvalue = [5, 1]'),\n",
       " Text(0.8082191780821918, 0.475, 'gini = 0.0\\nsamples = 5\\nvalue = [5, 0]'),\n",
       " Text(0.8356164383561644, 0.475, 'gini = 0.0\\nsamples = 1\\nvalue = [0, 1]'),\n",
       " Text(0.8767123287671232, 0.625, 'X[0] <= 43.5\\ngini = 0.069\\nsamples = 28\\nvalue = [1, 27]'),\n",
       " Text(0.863013698630137, 0.575, 'X[4] <= 555.0\\ngini = 0.375\\nsamples = 4\\nvalue = [1, 3]'),\n",
       " Text(0.8493150684931506, 0.525, 'gini = 0.0\\nsamples = 3\\nvalue = [0, 3]'),\n",
       " Text(0.8767123287671232, 0.525, 'gini = 0.0\\nsamples = 1\\nvalue = [1, 0]'),\n",
       " Text(0.8904109589041096, 0.575, 'gini = 0.0\\nsamples = 24\\nvalue = [0, 24]'),\n",
       " Text(0.8424657534246576, 0.675, 'gini = 0.0\\nsamples = 1\\nvalue = [1, 0]'),\n",
       " Text(0.9315068493150684, 0.775, 'X[5] <= 49.0\\ngini = 0.055\\nsamples = 106\\nvalue = [3, 103]'),\n",
       " Text(0.9041095890410958, 0.725, 'X[6] <= 125.5\\ngini = 0.198\\nsamples = 18\\nvalue = [2, 16]'),\n",
       " Text(0.8904109589041096, 0.675, 'gini = 0.0\\nsamples = 12\\nvalue = [0, 12]'),\n",
       " Text(0.9178082191780822, 0.675, 'X[3] <= 1.8\\ngini = 0.444\\nsamples = 6\\nvalue = [2, 4]'),\n",
       " Text(0.9041095890410958, 0.625, 'gini = 0.0\\nsamples = 2\\nvalue = [2, 0]'),\n",
       " Text(0.9315068493150684, 0.625, 'gini = 0.0\\nsamples = 4\\nvalue = [0, 4]'),\n",
       " Text(0.958904109589041, 0.725, 'X[4] <= 655.5\\ngini = 0.022\\nsamples = 88\\nvalue = [1, 87]'),\n",
       " Text(0.9452054794520548, 0.675, 'gini = 0.0\\nsamples = 73\\nvalue = [0, 73]'),\n",
       " Text(0.9726027397260274, 0.675, 'X[4] <= 680.0\\ngini = 0.124\\nsamples = 15\\nvalue = [1, 14]'),\n",
       " Text(0.958904109589041, 0.625, 'gini = 0.0\\nsamples = 1\\nvalue = [1, 0]'),\n",
       " Text(0.9863013698630136, 0.625, 'gini = 0.0\\nsamples = 14\\nvalue = [0, 14]')]"
      ]
     },
     "execution_count": 16,
     "metadata": {},
     "output_type": "execute_result"
    },
    {
     "data": {
      "image/png": "[encoded data removed]",
      "text/plain": [
       "<Figure size 432x288 with 1 Axes>"
      ]
     },
     "metadata": {
      "needs_background": "light"
     },
     "output_type": "display_data"
    }
   ],
   "source": [
    "from sklearn.tree import plot_tree\n",
    "plot_tree(dtc)"
   ]
  },
  {
   "cell_type": "code",
   "execution_count": 17,
   "id": "05ebe4cd",
   "metadata": {},
   "outputs": [
    {
     "data": {
      "text/plain": [
       "DecisionTreeClassifier(random_state=42)"
      ]
     },
     "execution_count": 17,
     "metadata": {},
     "output_type": "execute_result"
    }
   ],
   "source": [
    "dtc = DecisionTreeClassifier(random_state=42)\n",
    "dtc.fit(X_train, y_train)"
   ]
  },
  {
   "cell_type": "code",
   "execution_count": 18,
   "id": "b372d961",
   "metadata": {},
   "outputs": [
    {
     "name": "stdout",
     "output_type": "stream",
     "text": [
      "Training accuracy of Decision Tree algorithm: 1.0\n"
     ]
    }
   ],
   "source": [
    "y_train_pred = dtc.predict(X_train)\n",
    "train_accuracy = accuracy_score(y_train, y_train_pred)\n",
    "print(\"Training accuracy of Decision Tree algorithm:\", train_accuracy)"
   ]
  },
  {
   "cell_type": "code",
   "execution_count": 19,
   "id": "68150954",
   "metadata": {},
   "outputs": [
    {
     "name": "stdout",
     "output_type": "stream",
     "text": [
      "Testing accuracy of Decision Tree algorithm: 0.5862068965517241\n"
     ]
    }
   ],
   "source": [
    "y_test_pred = dtc.predict(X_test)\n",
    "test_accuracy = accuracy_score(y_test, y_test_pred)\n",
    "print(\"Testing accuracy of Decision Tree algorithm:\", test_accuracy)"
   ]
  },
  {
   "cell_type": "code",
   "execution_count": 20,
   "id": "344bf82c",
   "metadata": {},
   "outputs": [],
   "source": [
    "from sklearn.linear_model import LogisticRegression\n",
    "from sklearn.metrics import accuracy_score, confusion_matrix\n",
    "from sklearn.preprocessing import StandardScaler"
   ]
  },
  {
   "cell_type": "code",
   "execution_count": 21,
   "id": "55a758c6",
   "metadata": {},
   "outputs": [],
   "source": [
    "# Standardize the data\n",
    "scaler = StandardScaler()\n",
    "X_train = scaler.fit_transform(X_train)\n",
    "X_test = scaler.transform(X_test)"
   ]
  },
  {
   "cell_type": "code",
   "execution_count": 22,
   "id": "a8248378",
   "metadata": {},
   "outputs": [
    {
     "data": {
      "text/plain": [
       "LogisticRegression(random_state=42)"
      ]
     },
     "execution_count": 22,
     "metadata": {},
     "output_type": "execute_result"
    }
   ],
   "source": [
    "# Fit a logistic regression model to the training data\n",
    "logreg = LogisticRegression(random_state=42)\n",
    "logreg.fit(X_train, y_train)"
   ]
  },
  {
   "cell_type": "code",
   "execution_count": 23,
   "id": "2f483ea1",
   "metadata": {},
   "outputs": [],
   "source": [
    "# Predict the target variable for the training and testing data\n",
    "y_train_pred = logreg.predict(X_train)\n",
    "y_test_pred = logreg.predict(X_test)"
   ]
  },
  {
   "cell_type": "code",
   "execution_count": 24,
   "id": "674dc6cd",
   "metadata": {},
   "outputs": [
    {
     "name": "stdout",
     "output_type": "stream",
     "text": [
      "Training accuracy of logistic regression model: 0.7537796976241901\n",
      "Testing accuracy of logistic regression model: 0.6551724137931034\n"
     ]
    }
   ],
   "source": [
    "# Compute the accuracy of the model on the training and testing data\n",
    "train_accuracy = accuracy_score(y_train, y_train_pred)\n",
    "test_accuracy = accuracy_score(y_test, y_test_pred)\n",
    "print(\"Training accuracy of logistic regression model:\", train_accuracy)\n",
    "print(\"Testing accuracy of logistic regression model:\", test_accuracy)"
   ]
  },
  {
   "cell_type": "code",
   "execution_count": 25,
   "id": "857c9251",
   "metadata": {},
   "outputs": [
    {
     "name": "stdout",
     "output_type": "stream",
     "text": [
      "training accuracy:  0.6825053995680346\n",
      "Testing accuracy:  0.6120689655172413\n"
     ]
    }
   ],
   "source": [
    "from sklearn.linear_model import Perceptron\n",
    "p = Perceptron(penalty='l2',random_state=42)\n",
    "p.fit(X_train,y_train)\n",
    "train_pred=p.predict(X_train)\n",
    "test_pred=p.predict(X_test)\n",
    "print(\"training accuracy: \", accuracy_score(train_pred, y_train))\n",
    "print(\"Testing accuracy: \", accuracy_score(test_pred,y_test))"
   ]
  },
  {
   "cell_type": "code",
   "execution_count": 26,
   "id": "621fe732",
   "metadata": {},
   "outputs": [
    {
     "data": {
      "image/png": "[encoded data removed]",
      "text/plain": [
       "<Figure size 432x288 with 1 Axes>"
      ]
     },
     "metadata": {
      "needs_background": "light"
     },
     "output_type": "display_data"
    }
   ],
   "source": [
    "import matplotlib.pyplot as plt\n",
    "\n",
    "# Fit the Perceptron model and get the training and testing accuracies\n",
    "train_accuracies = []\n",
    "test_accuracies = []\n",
    "for i in range(1, 11):\n",
    "    p = Perceptron(penalty='l2', random_state=42, max_iter=i*100)\n",
    "    p.fit(X_train, y_train)\n",
    "    train_pred = p.predict(X_train)\n",
    "    test_pred = p.predict(X_test)\n",
    "    train_accuracy = accuracy_score(train_pred, y_train)\n",
    "    test_accuracy = accuracy_score(test_pred, y_test)\n",
    "    train_accuracies.append(train_accuracy)\n",
    "    test_accuracies.append(test_accuracy)\n",
    "\n",
    "# Plot the training and testing accuracies\n",
    "plt.plot(range(100, 1100, 100), train_accuracies, label='Training Accuracy')\n",
    "plt.plot(range(100, 1100, 100), test_accuracies, label='Testing Accuracy')\n",
    "plt.xlabel('Number of iterations')\n",
    "plt.ylabel('Accuracy')\n",
    "plt.title('Perceptron Model')\n",
    "plt.legend()\n",
    "plt.show()"
   ]
  },
  {
   "cell_type": "code",
   "execution_count": 27,
   "id": "4ca1ddd6",
   "metadata": {},
   "outputs": [],
   "source": [
    "from sklearn.svm import SVC"
   ]
  },
  {
   "cell_type": "code",
   "execution_count": 28,
   "id": "1f04de21",
   "metadata": {},
   "outputs": [
    {
     "data": {
      "text/plain": [
       "SVC()"
      ]
     },
     "execution_count": 28,
     "metadata": {},
     "output_type": "execute_result"
    }
   ],
   "source": [
    "svc1=SVC(kernel='rbf')\n",
    "svc1.fit(X_train,y_train)"
   ]
  },
  {
   "cell_type": "code",
   "execution_count": 29,
   "id": "c536335e",
   "metadata": {},
   "outputs": [],
   "source": [
    "svc_train_pred=svc1.predict(X_train)\n",
    "svc_test_pred=svc1.predict(X_test)"
   ]
  },
  {
   "cell_type": "code",
   "execution_count": 30,
   "id": "6a38274e",
   "metadata": {},
   "outputs": [
    {
     "name": "stdout",
     "output_type": "stream",
     "text": [
      "training accuracy SVM:  0.7365010799136069\n",
      "Testing accuracy SVM:  0.6293103448275862\n"
     ]
    }
   ],
   "source": [
    "print(\"training accuracy SVM: \", accuracy_score(y_train,svc_train_pred))\n",
    "print(\"Testing accuracy SVM: \", accuracy_score(y_test, svc_test_pred))"
   ]
  },
  {
   "cell_type": "code",
   "execution_count": null,
   "id": "3368a417",
   "metadata": {},
   "outputs": [],
   "source": []
  }
 ],
 "metadata": {
  "kernelspec": {
   "display_name": "Python 3 (ipykernel)",
   "language": "python",
   "name": "python3"
  },
  "language_info": {
   "codemirror_mode": {
    "name": "ipython",
    "version": 3
   },
   "file_extension": ".py",
   "mimetype": "text/x-python",
   "name": "python",
   "nbconvert_exporter": "python",
   "pygments_lexer": "ipython3",
   "version": "3.9.12"
  }
 },
 "nbformat": 4,
 "nbformat_minor": 5
}
